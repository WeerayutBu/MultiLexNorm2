{
 "cells": [
  {
   "cell_type": "code",
   "execution_count": 1,
   "metadata": {},
   "outputs": [],
   "source": [
    "import os\n",
    "import sys\n",
    "sys.path.append('/home/fame/Workspace/WNUT/MultiLexNorm2/scripts')\n",
    "\n",
    "from normEval import loadNormData\n",
    "\n",
    "def write(origs, path):\n",
    "    outFile = open(path, 'w')\n",
    "    for origSent in origs:\n",
    "        for origWord in origSent:\n",
    "            outFile.write(origWord+'\\n')\n",
    "        outFile.write('\\n')\n",
    "    outFile.close()"
   ]
  },
  {
   "cell_type": "code",
   "execution_count": 3,
   "metadata": {},
   "outputs": [
    {
     "name": "stdout",
     "output_type": "stream",
     "text": [
      "id\n",
      "ja\n",
      "ko\n",
      "vi\n",
      "th\n"
     ]
    }
   ],
   "source": [
    "path_dir = \"test_masked/new_languages\"\n",
    "save_dir = \"test_masked/new_languages_rm\"\n",
    "languages = ['id', 'ja', 'ko', 'vi', 'th']\n",
    "\n",
    "for lang in languages:\n",
    "    print(lang)\n",
    "    path = path_dir + '/' + lang + '/test.norm.masked'\n",
    "    Raw, Gold = loadNormData(path)\n",
    "    # create dir\n",
    "    if not os.path.exists(save_dir + '/' + lang):\n",
    "        os.makedirs(save_dir + '/' + lang)\n",
    "    write(Raw, save_dir + '/' + lang + '/test.norm.masked')"
   ]
  },
  {
   "cell_type": "code",
   "execution_count": null,
   "metadata": {},
   "outputs": [],
   "source": []
  }
 ],
 "metadata": {
  "kernelspec": {
   "display_name": "workspace",
   "language": "python",
   "name": "python3"
  },
  "language_info": {
   "codemirror_mode": {
    "name": "ipython",
    "version": 3
   },
   "file_extension": ".py",
   "mimetype": "text/x-python",
   "name": "python",
   "nbconvert_exporter": "python",
   "pygments_lexer": "ipython3",
   "version": "3.11.3"
  }
 },
 "nbformat": 4,
 "nbformat_minor": 2
}
